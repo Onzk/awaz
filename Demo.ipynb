{
 "cells": [
  {
   "cell_type": "markdown",
   "metadata": {},
   "source": [
    "# Awaz : Module de fiscalité python\n",
    "![fiscal logo image](https://github.com/Onzk/awaz/blob/master/awaz.png?raw=true)"
   ]
  },
  {
   "cell_type": "markdown",
   "metadata": {},
   "source": [
    "### Importation du module"
   ]
  },
  {
   "cell_type": "code",
   "execution_count": 23,
   "metadata": {},
   "outputs": [],
   "source": [
    "import awaz"
   ]
  },
  {
   "cell_type": "markdown",
   "metadata": {},
   "source": [
    "## Démonstrations pratiques avec des exercices"
   ]
  },
  {
   "cell_type": "markdown",
   "metadata": {},
   "source": [
    "### Description de la fonction augmentation en pourcentage\n",
    "La fonction augmentation en pourcentage calcule la croissance \n",
    "proportionnelle d'un montant depuis sa valeur initiale jusqu'à sa nouvelle \n",
    "valeur supérieure. Elle est couramment utilisée pour mesurer le changement \n",
    "relatif dans une quantité et s'exprime en pourcentage.\n",
    "\n",
    "#### Exemple\n",
    "Vous analysez la croissance des ventes d'une entreprise au fil des années.\n",
    "Dans la première année, les ventes étaient de 200 000 euros.\n",
    "Dans la deuxième année, les ventes ont atteint 250 000 euros."
   ]
  },
  {
   "cell_type": "code",
   "execution_count": 27,
   "metadata": {},
   "outputs": [
    {
     "name": "stdout",
     "output_type": "stream",
     "text": [
      "Les ventes ont connu une augmentation de 25.0% de la première à la \n",
      "deuxième année. Ce pourcentage d'augmentation offre une mesure claire \n",
      "de la croissance relative des ventes de l'entreprise sur la période spécifiée.\n"
     ]
    }
   ],
   "source": [
    "augmentation_percent: float = awaz.augmentation_percent(200_000, 50_000)\n",
    "\n",
    "print(f\"\"\"Les ventes ont connu une augmentation de {augmentation_percent *100}% de la première à la \n",
    "deuxième année. Ce pourcentage d'augmentation offre une mesure claire \n",
    "de la croissance relative des ventes de l'entreprise sur la période spécifiée.\"\"\")"
   ]
  },
  {
   "cell_type": "markdown",
   "metadata": {},
   "source": [
    "### Description de la fonction diminution en pourcentage\n",
    "La fonction diminution en pourcentage calcule la diminution proportionnelle \n",
    "d'un montant depuis sa valeur initiale jusqu'à sa nouvelle valeur inférieure. Elle \n",
    "est couramment utilisée pour mesurer le changement relatif dans une \n",
    "quantité et s'exprime en pourcentage. Cette fonction est essentielle dans \n",
    "divers contextes financiers et analytiques, offrant une méthode normalisée \n",
    "pour quantifier l'ampleur des changements négatifs, tels que les réductions \n",
    "de coûts, la baisse des ventes ou d'autres métriques de performance.\n",
    "\n",
    "#### Exemple\n",
    "Vous analysez la croissance des ventes d'une entreprise au fil des années.\n",
    "- Dans la première année, les ventes ont atteint 250 000 euros.\n",
    "- Dans la deuxième année, les ventes n'étaient que 200 000 euros."
   ]
  },
  {
   "cell_type": "code",
   "execution_count": 28,
   "metadata": {},
   "outputs": [
    {
     "name": "stdout",
     "output_type": "stream",
     "text": [
      "Les ventes ont connu une diminution de 20.0% de la première à la deuxième \n",
      "année. Ce pourcentage de diminution offre une mesure claire de la \n",
      "réduction relative des ventes de l'entreprise sur la période spécifiée.\n"
     ]
    }
   ],
   "source": [
    "diminution_percent: float = awaz.diminution_percent(250_000, 50_000)\n",
    "\n",
    "print(f\"\"\"Les ventes ont connu une diminution de {diminution_percent * 100}% de la première à la deuxième \n",
    "année. Ce pourcentage de diminution offre une mesure claire de la \n",
    "réduction relative des ventes de l'entreprise sur la période spécifiée.\"\"\")"
   ]
  },
  {
   "cell_type": "markdown",
   "metadata": {},
   "source": [
    "### Description et utilisation de l'interpolation linéaire\n",
    "La fonction ci-dessous montre comment calculer une valeur par interpolation \n",
    "linéaire. L'interpolation linéaire est un procédé mathématique qui permet \n",
    "d'estimer une valeur en calculant la moyenne de deux valeurs environnantes \n",
    "connues. L'interpolation linéaire est fréquemment utilisée en finance, par \n",
    "exemple, pour estimer le rendement ou le prix d'instruments financiers, \n",
    "notamment lorsqu'on travaille avec des intervalles de temps irréguliers ou \n",
    "avec des points de données manquants dans une série temporelle.\n",
    "\n",
    "#### Exemple\n",
    "Une courbe de taux affiche, pour des maturités de 3 ans (x1) et de 5 ans (x2) \n",
    "respectivement, des taux de rendement de 2.5% (y1) et de 3.5% (y2).\n",
    "Le taux recherché (yi) est celui de l'échéance de 4 ans (xi)."
   ]
  },
  {
   "cell_type": "code",
   "execution_count": 15,
   "metadata": {},
   "outputs": [
    {
     "name": "stdout",
     "output_type": "stream",
     "text": [
      "Le taux recherché 3.0% est celui de l'échéance de 4 ans.\n"
     ]
    }
   ],
   "source": [
    "rate: float = awaz.linear_interpolation(4, 3, 5, 0.025, 0.035)\n",
    "\n",
    "print(f\"\"\"Le taux recherché {round(rate * 100, 3)}% est celui de l'échéance de 4 ans.\"\"\")"
   ]
  },
  {
   "cell_type": "markdown",
   "metadata": {},
   "source": [
    "### Calcul du terme taux d'intérêt réel\n",
    "Le taux d'intérêt réel est le taux d'intérêt nominal corrigé des effets de \n",
    "l'inflation.\n",
    "\n",
    "#### Exemple\n",
    "Si le taux d'intérêt nominal annuel d'un investissement (inom) est de 5%, et le \n",
    "taux d'inflation estimé pour l'année à venir (restinf) est de 1.5%, le taux d'intérêt \n",
    "réel pour un placement d'un an ressort à combien ?"
   ]
  },
  {
   "cell_type": "code",
   "execution_count": 16,
   "metadata": {},
   "outputs": [
    {
     "name": "stdout",
     "output_type": "stream",
     "text": [
      "Le taux d'intérêt réel pour un placement d'un an ressort à 3.448%\n"
     ]
    }
   ],
   "source": [
    "real_interest_rate: float = awaz.fisher_real_interest(0.05, 0.015)\n",
    "\n",
    "print(f\"\"\"Le taux d'intérêt réel pour un placement d'un an ressort à {round(real_interest_rate * 100, 3)}%\"\"\")"
   ]
  },
  {
   "cell_type": "markdown",
   "metadata": {},
   "source": [
    "### Calcul de la valeur future d'un capital (périodes de capitalisation inférieures à un an)\n",
    "Fonction permettant de calculer la valeur d'un capital au bout de N années, \n",
    "avec m capitalisations par an.\n",
    "\n",
    "#### Exemple\n",
    "Prenons l'exemple d'un capital de 100 000 (C) placé à un taux d'intérêt \n",
    "annuel de 3% (i) pendant 5 ans (N) et avec une capitalisation d'intérêts \n",
    "mensuelle (m = 12). Au bout des cinq années, ce capital vaudra combien ?"
   ]
  },
  {
   "cell_type": "code",
   "execution_count": 17,
   "metadata": {},
   "outputs": [
    {
     "name": "stdout",
     "output_type": "stream",
     "text": [
      "Au bout des cinq années, ce capital vaudra 116161.68\n"
     ]
    }
   ],
   "source": [
    "future_capital: float = awaz.one_year_less_future_capital_value(100_000, 0.03, 12, 5)\n",
    "\n",
    "print(f\"\"\"Au bout des cinq années, ce capital vaudra {round(future_capital, 2)}\"\"\")"
   ]
  },
  {
   "cell_type": "markdown",
   "metadata": {},
   "source": [
    "### Calcul de la valeur future d'une série d'annuités égales placées en début de période et pendant n périodes\n",
    "Cette fonction permet de déterminer la valeur d'un capital Cn, constitué par \n",
    "le placement d'une série d'annuités égales a en début de période, et ce \n",
    "pendant un nombre n de périodes.\n",
    "\n",
    "#### Exemple\n",
    "Calcul de la valeur du capital constitué par des versements de 200 euros tous \n",
    "les débuts de mois pendant 5 ans et sur un compte rémunéré à 3.5% p. a, \n",
    "avec capitalisation des intérêts à chaque fin de mois. Afin de connaître la \n",
    "réponse à cette question, il convient d'abord de transformer le taux d'intérêt\n",
    "annuel en taux d'intérêt proportionnel mensuel. Le résultat est de 3.5% / 12 = 0.291666667%.\n",
    "En appliquant ce taux, déterminez une valeur du capital, au bout de 5 ans."
   ]
  },
  {
   "cell_type": "code",
   "execution_count": 18,
   "metadata": {},
   "outputs": [
    {
     "name": "stdout",
     "output_type": "stream",
     "text": [
      "Au bout des cinq années, ce capital vaudra 13131.41 euros\n"
     ]
    }
   ],
   "source": [
    "value: float = awaz.period_start_future_annuity_value(200, 0.00291666667, 5)\n",
    "\n",
    "print(f\"\"\"Au bout des cinq années, ce capital vaudra {round(value, 2)} euros\"\"\")"
   ]
  },
  {
   "cell_type": "markdown",
   "metadata": {},
   "source": [
    "### Calcul de la valeur future d'une série d'annuités égales placées en fin de période et pendant n périodes\n",
    "Cette fonction permet de déterminer la valeur d'un capital Cn constitué par le \n",
    "placement d'une série d'annuités a, en fin de période, pendant un \n",
    "nombre n de périodes.\n",
    "\n",
    "#### Exemple\n",
    "Calcul de la valeur du capital constitué par des versements de 200 euros \n",
    "toutes les fins de mois pendant 5 ans et sur un compte rémunéré à 3.5% p. a, \n",
    "avec capitalisation des intérêts à chaque fin de mois. Afin de connaître la \n",
    "réponse à cette question, il convient d'abord de transformer le taux d'intérêt \n",
    "annuel en taux d'intérêt proportionnel mensuel. Le résultat est de 3.5% / 12 = \n",
    "0.291666667%. En appliquant ce taux, déterminez une valeur du capital, au bout de 5 ans."
   ]
  },
  {
   "cell_type": "code",
   "execution_count": 29,
   "metadata": {},
   "outputs": [
    {
     "name": "stdout",
     "output_type": "stream",
     "text": [
      "Au bout des cinq années, ce capital vaudra 13093.22 euros\n"
     ]
    }
   ],
   "source": [
    "value: float = awaz.period_end_future_annuity_value(200, 0.00291666667, 5)\n",
    "\n",
    "print(f\"\"\"Au bout des cinq années, ce capital vaudra {round(value, 2)} euros\"\"\")"
   ]
  },
  {
   "cell_type": "markdown",
   "metadata": {},
   "source": [
    "### Calcul de la mensualité de crédit avec un taux et un capital donné\n",
    "Cette fonction permet de calculer la mensualité à payer pour rembourser un \n",
    "crédit de montant C avec un taux d'intérêt r et une durée de N périodes. Elle \n",
    "permet donc de répondre à la question suivante : Combien dois-je débourser \n",
    "chaque période si je veux emprunter le montant C à un taux d'intérêt r, en \n",
    "remboursant sur N périodes.\n",
    "\n",
    "#### Exemple\n",
    "Prenons l'exemple d'un crédit d'un montant de 50 000 euros, avec un taux \n",
    "d'intérêt de 2.4% par an et une durée de 6 ans (72 mois).\n",
    "En utilisant la fonction adéquate, calculez la mensualité du crédit aux conditions \n",
    "énoncées."
   ]
  },
  {
   "cell_type": "code",
   "execution_count": 30,
   "metadata": {},
   "outputs": [
    {
     "name": "stdout",
     "output_type": "stream",
     "text": [
      "La mensualité du crédit s'élève à 746.34 euros\n"
     ]
    }
   ],
   "source": [
    "value: float = awaz.mensuality_credit(50_000 , 0.024, 12, 6 * 12)\n",
    "\n",
    "print(f\"\"\"La mensualité du crédit s'élève à {round(value, 2)} euros\"\"\")"
   ]
  },
  {
   "cell_type": "markdown",
   "metadata": {},
   "source": [
    "### Calcul du capital d'un crédit avec un taux et une mensualité donnée\n",
    "Cette fonction permet de déterminer le montant (maximum) C qui peut être \n",
    "emprunté avec les conditions de durée N, de taux d'intérêt r et de capacité \n",
    "de remboursement par période m données.\n",
    "Elle permet donc de répondre à la question suivante : Combien peut-on \n",
    "emprunter, avec un taux d'intérêt de r, sur une durée de N périodes et en \n",
    "payant une mensualité de m ?\n",
    "\n",
    "#### Exemple\n",
    "Prenons les conditions d'emprunt suivantes : un taux d'intérêt de 2.4% par an, \n",
    "une durée souhaitée de 6 ans (72 mois), et une capacité de remboursement \n",
    "mensuelle de 750 euros.\n",
    "En utilisant la fonction adéquate, calculez la somme qui peut être empruntée."
   ]
  },
  {
   "cell_type": "code",
   "execution_count": 21,
   "metadata": {},
   "outputs": [
    {
     "name": "stdout",
     "output_type": "stream",
     "text": [
      "La somme qui peut être empruntée s'élève à 50245.4 euros\n"
     ]
    }
   ],
   "source": [
    "capital: float = awaz.credit_capital(0.024, 12, 6 * 12, 750)\n",
    "\n",
    "print(f\"\"\"La somme qui peut être empruntée s'élève à {round(capital, 2)} euros\"\"\")"
   ]
  },
  {
   "cell_type": "markdown",
   "metadata": {},
   "source": [
    "### Calcul de la durée d'un crédit en nombre de périodes à partir de montant, taux et mensualité\n",
    "Cette fonction permet de calculer la durée d'un crédit lorsque le montant, le \n",
    "taux d'intérêt et de la mensualité sont connus.\n",
    "\n",
    "#### Exemple\n",
    "Considérons un crédit d'un montant de 50 000 euros, avec un taux d'intérêt \n",
    "de 2.4% par an et une mensualité de 800 euros.\n",
    "En appliquant la fonction appropriée, calculez la durée du crédit aux conditions \n",
    "énoncées."
   ]
  },
  {
   "cell_type": "code",
   "execution_count": 22,
   "metadata": {},
   "outputs": [
    {
     "name": "stdout",
     "output_type": "stream",
     "text": [
      "La durée du crédit sera de 66.83243977556846 mois (soit 67 mois).\n"
     ]
    }
   ],
   "source": [
    "duration: float = awaz.credit_duration(50_000,800, 0.024, 12)\n",
    "\n",
    "print(f\"\"\"La durée du crédit sera de {duration} mois (soit {round(duration)} mois).\"\"\")"
   ]
  },
  {
   "cell_type": "markdown",
   "metadata": {},
   "source": [
    "# Merci !"
   ]
  }
 ],
 "metadata": {
  "kernelspec": {
   "display_name": "Python 3",
   "language": "python",
   "name": "python3"
  },
  "language_info": {
   "codemirror_mode": {
    "name": "ipython",
    "version": 3
   },
   "file_extension": ".py",
   "mimetype": "text/x-python",
   "name": "python",
   "nbconvert_exporter": "python",
   "pygments_lexer": "ipython3",
   "version": "3.11.5"
  }
 },
 "nbformat": 4,
 "nbformat_minor": 2
}
